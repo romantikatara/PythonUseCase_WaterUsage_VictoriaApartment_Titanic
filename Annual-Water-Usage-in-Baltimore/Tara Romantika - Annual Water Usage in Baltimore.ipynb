{
 "cells": [
  {
   "cell_type": "markdown",
   "metadata": {},
   "source": [
    "# Annual Water Usage in Baltimore"
   ]
  },
  {
   "cell_type": "markdown",
   "metadata": {},
   "source": [
    "Data yang digunakan pada use case ini dapat diunduh pada [Link ini](https://drive.google.com/open?id=1axM3gfGxQq4T0wuwP51DVMQAecVFmpxL). <br>\n",
    "Dataset tersebut dibuat oleh Hipel an Mcleod tahun 1994."
   ]
  },
  {
   "cell_type": "markdown",
   "metadata": {},
   "source": [
    "### Import Librarys"
   ]
  },
  {
   "cell_type": "code",
   "execution_count": 1,
   "metadata": {},
   "outputs": [],
   "source": [
    "# Import Librarys\n",
    "import pandas as pd\n",
    "import numpy as np\n",
    "\n",
    "import matplotlib.pyplot as plt\n",
    "import seaborn as sns\n",
    "\n",
    "from sklearn.model_selection import train_test_split\n",
    "from statsmodels.tsa.arima_model import ARIMA\n",
    "from sklearn.metrics import mean_squared_error\n",
    "\n",
    "import warnings\n",
    "warnings.filterwarnings('ignore')"
   ]
  },
  {
   "cell_type": "markdown",
   "metadata": {},
   "source": [
    "### No. 1 -- Load Dataset\n",
    "- Load dataset sebagai pandas series\n",
    "- Split data menjadi dua : satu set data digunakan untuk menentukan model development (dataset.csv) dan yang lainnya untuk validasi (validasi.csv)"
   ]
  },
  {
   "cell_type": "code",
   "execution_count": 2,
   "metadata": {},
   "outputs": [
    {
     "data": {
      "text/html": [
       "<div>\n",
       "<style scoped>\n",
       "    .dataframe tbody tr th:only-of-type {\n",
       "        vertical-align: middle;\n",
       "    }\n",
       "\n",
       "    .dataframe tbody tr th {\n",
       "        vertical-align: top;\n",
       "    }\n",
       "\n",
       "    .dataframe thead th {\n",
       "        text-align: right;\n",
       "    }\n",
       "</style>\n",
       "<table border=\"1\" class=\"dataframe\">\n",
       "  <thead>\n",
       "    <tr style=\"text-align: right;\">\n",
       "      <th></th>\n",
       "      <th>year</th>\n",
       "      <th>annual_water_usage</th>\n",
       "    </tr>\n",
       "  </thead>\n",
       "  <tbody>\n",
       "    <tr>\n",
       "      <th>0</th>\n",
       "      <td>1885</td>\n",
       "      <td>356</td>\n",
       "    </tr>\n",
       "    <tr>\n",
       "      <th>1</th>\n",
       "      <td>1886</td>\n",
       "      <td>386</td>\n",
       "    </tr>\n",
       "    <tr>\n",
       "      <th>2</th>\n",
       "      <td>1887</td>\n",
       "      <td>397</td>\n",
       "    </tr>\n",
       "    <tr>\n",
       "      <th>3</th>\n",
       "      <td>1888</td>\n",
       "      <td>397</td>\n",
       "    </tr>\n",
       "    <tr>\n",
       "      <th>4</th>\n",
       "      <td>1889</td>\n",
       "      <td>413</td>\n",
       "    </tr>\n",
       "  </tbody>\n",
       "</table>\n",
       "</div>"
      ],
      "text/plain": [
       "   year  annual_water_usage\n",
       "0  1885                 356\n",
       "1  1886                 386\n",
       "2  1887                 397\n",
       "3  1888                 397\n",
       "4  1889                 413"
      ]
     },
     "execution_count": 2,
     "metadata": {},
     "output_type": "execute_result"
    }
   ],
   "source": [
    "# Load dataset water.csv\n",
    "df = pd.read_csv('water.csv')\n",
    "df.head()"
   ]
  },
  {
   "cell_type": "code",
   "execution_count": 3,
   "metadata": {},
   "outputs": [
    {
     "data": {
      "text/plain": [
       "year                  int64\n",
       "annual_water_usage    int64\n",
       "dtype: object"
      ]
     },
     "execution_count": 3,
     "metadata": {},
     "output_type": "execute_result"
    }
   ],
   "source": [
    "# Melihat tipe data dari water.csv\n",
    "df.dtypes"
   ]
  },
  {
   "cell_type": "markdown",
   "metadata": {},
   "source": [
    "> **Tipe Data water.csv** <br>\n",
    "Tipe data dari features year dan annual_water_usage adalah integer (numerik)"
   ]
  },
  {
   "cell_type": "code",
   "execution_count": 4,
   "metadata": {},
   "outputs": [
    {
     "data": {
      "text/plain": [
       "(79, 2)"
      ]
     },
     "execution_count": 4,
     "metadata": {},
     "output_type": "execute_result"
    }
   ],
   "source": [
    "# Dimensi dari dataset annual water usage\n",
    "df.shape"
   ]
  },
  {
   "cell_type": "markdown",
   "metadata": {},
   "source": [
    "> **Dimensi water.csv** <br>\n",
    "Dari dimensi dataset di atas terlihat bahwa terdapat 79 tahun water usage."
   ]
  },
  {
   "cell_type": "code",
   "execution_count": 5,
   "metadata": {},
   "outputs": [],
   "source": [
    "# Split dataset water usage\n",
    "# dataset.csv untuk model development\n",
    "# validation.csv untuk model validation\n",
    "\n",
    "# Menentukan batas untuk split dataset annual water usage\n",
    "batas = len(df) - 19\n",
    "dataset, validation = df[0:batas], df[batas:]\n",
    "\n",
    "# Menyimpan dataset untuk model development pada file dataset.csv\n",
    "dataset.to_csv('dataset.csv')\n",
    "\n",
    "# Menyimpan dataset untuk model validation pada file validation.csv\n",
    "validation.to_csv('validation.csv')"
   ]
  },
  {
   "cell_type": "markdown",
   "metadata": {},
   "source": [
    "> **Split Dataset water.csv** <br>\n",
    "Dataset water.csv displit menjadi dua kelompok yaitu data model development dan data model validation. Kedua data tersebut kemudian disimpan dalam bentuk .csv dengan nama dataset.csv untuk data model deployment dan validation.csv untuk data model validation."
   ]
  },
  {
   "cell_type": "code",
   "execution_count": 6,
   "metadata": {},
   "outputs": [
    {
     "data": {
      "text/plain": [
       "(60, 3)"
      ]
     },
     "execution_count": 6,
     "metadata": {},
     "output_type": "execute_result"
    }
   ],
   "source": [
    "# Load dataset untuk model development\n",
    "dataset = pd.read_csv('dataset.csv')\n",
    "\n",
    "# Dimensi dari dataset untuk model development\n",
    "dataset.shape"
   ]
  },
  {
   "cell_type": "code",
   "execution_count": 7,
   "metadata": {},
   "outputs": [
    {
     "data": {
      "text/plain": [
       "(19, 3)"
      ]
     },
     "execution_count": 7,
     "metadata": {},
     "output_type": "execute_result"
    }
   ],
   "source": [
    "# Load dataset untuk model validation\n",
    "validation = pd.read_csv('validation.csv')\n",
    "\n",
    "# Load dataset untuk model validation\n",
    "validation.shape"
   ]
  },
  {
   "cell_type": "markdown",
   "metadata": {},
   "source": [
    "> **Dimensi dataset.csv dan validation.csv** <br>\n",
    "Dari split dataset annual water usage diatas didapat komposisi data untuk model development (dataset.csv) sebanyak 60 tahun penggunaan air (1885 sampai dengan 1945) dan data untuk validasi model (validation.csv) sebanyak 19 tahun (1946 sampai dengan 1965)."
   ]
  },
  {
   "cell_type": "markdown",
   "metadata": {},
   "source": [
    "### No. 2 -- Create summary of the dataset, with python function."
   ]
  },
  {
   "cell_type": "code",
   "execution_count": 8,
   "metadata": {},
   "outputs": [],
   "source": [
    "# Menghapuskan kolom 'Unnamed: 0' pada dataset.csv\n",
    "dataset = dataset.drop(columns = 'Unnamed: 0', axis = 0)"
   ]
  },
  {
   "cell_type": "code",
   "execution_count": 9,
   "metadata": {},
   "outputs": [
    {
     "data": {
      "text/html": [
       "<div>\n",
       "<style scoped>\n",
       "    .dataframe tbody tr th:only-of-type {\n",
       "        vertical-align: middle;\n",
       "    }\n",
       "\n",
       "    .dataframe tbody tr th {\n",
       "        vertical-align: top;\n",
       "    }\n",
       "\n",
       "    .dataframe thead th {\n",
       "        text-align: right;\n",
       "    }\n",
       "</style>\n",
       "<table border=\"1\" class=\"dataframe\">\n",
       "  <thead>\n",
       "    <tr style=\"text-align: right;\">\n",
       "      <th></th>\n",
       "      <th>year</th>\n",
       "      <th>annual_water_usage</th>\n",
       "    </tr>\n",
       "  </thead>\n",
       "  <tbody>\n",
       "    <tr>\n",
       "      <th>0</th>\n",
       "      <td>1885</td>\n",
       "      <td>356</td>\n",
       "    </tr>\n",
       "    <tr>\n",
       "      <th>1</th>\n",
       "      <td>1886</td>\n",
       "      <td>386</td>\n",
       "    </tr>\n",
       "    <tr>\n",
       "      <th>2</th>\n",
       "      <td>1887</td>\n",
       "      <td>397</td>\n",
       "    </tr>\n",
       "    <tr>\n",
       "      <th>3</th>\n",
       "      <td>1888</td>\n",
       "      <td>397</td>\n",
       "    </tr>\n",
       "    <tr>\n",
       "      <th>4</th>\n",
       "      <td>1889</td>\n",
       "      <td>413</td>\n",
       "    </tr>\n",
       "  </tbody>\n",
       "</table>\n",
       "</div>"
      ],
      "text/plain": [
       "   year  annual_water_usage\n",
       "0  1885                 356\n",
       "1  1886                 386\n",
       "2  1887                 397\n",
       "3  1888                 397\n",
       "4  1889                 413"
      ]
     },
     "execution_count": 9,
     "metadata": {},
     "output_type": "execute_result"
    }
   ],
   "source": [
    "# Memunculkan 5 baris pertama dari dataset\n",
    "dataset.head()"
   ]
  },
  {
   "cell_type": "code",
   "execution_count": 10,
   "metadata": {},
   "outputs": [
    {
     "data": {
      "text/html": [
       "<div>\n",
       "<style scoped>\n",
       "    .dataframe tbody tr th:only-of-type {\n",
       "        vertical-align: middle;\n",
       "    }\n",
       "\n",
       "    .dataframe tbody tr th {\n",
       "        vertical-align: top;\n",
       "    }\n",
       "\n",
       "    .dataframe thead th {\n",
       "        text-align: right;\n",
       "    }\n",
       "</style>\n",
       "<table border=\"1\" class=\"dataframe\">\n",
       "  <thead>\n",
       "    <tr style=\"text-align: right;\">\n",
       "      <th></th>\n",
       "      <th>year</th>\n",
       "      <th>annual_water_usage</th>\n",
       "    </tr>\n",
       "  </thead>\n",
       "  <tbody>\n",
       "    <tr>\n",
       "      <th>count</th>\n",
       "      <td>60.000</td>\n",
       "      <td>60.000</td>\n",
       "    </tr>\n",
       "    <tr>\n",
       "      <th>mean</th>\n",
       "      <td>1914.500</td>\n",
       "      <td>487.350</td>\n",
       "    </tr>\n",
       "    <tr>\n",
       "      <th>std</th>\n",
       "      <td>17.464</td>\n",
       "      <td>69.319</td>\n",
       "    </tr>\n",
       "    <tr>\n",
       "      <th>min</th>\n",
       "      <td>1885.000</td>\n",
       "      <td>344.000</td>\n",
       "    </tr>\n",
       "    <tr>\n",
       "      <th>25%</th>\n",
       "      <td>1899.750</td>\n",
       "      <td>454.000</td>\n",
       "    </tr>\n",
       "    <tr>\n",
       "      <th>50%</th>\n",
       "      <td>1914.500</td>\n",
       "      <td>486.500</td>\n",
       "    </tr>\n",
       "    <tr>\n",
       "      <th>75%</th>\n",
       "      <td>1929.250</td>\n",
       "      <td>515.000</td>\n",
       "    </tr>\n",
       "    <tr>\n",
       "      <th>max</th>\n",
       "      <td>1944.000</td>\n",
       "      <td>662.000</td>\n",
       "    </tr>\n",
       "  </tbody>\n",
       "</table>\n",
       "</div>"
      ],
      "text/plain": [
       "           year  annual_water_usage\n",
       "count    60.000              60.000\n",
       "mean   1914.500             487.350\n",
       "std      17.464              69.319\n",
       "min    1885.000             344.000\n",
       "25%    1899.750             454.000\n",
       "50%    1914.500             486.500\n",
       "75%    1929.250             515.000\n",
       "max    1944.000             662.000"
      ]
     },
     "execution_count": 10,
     "metadata": {},
     "output_type": "execute_result"
    }
   ],
   "source": [
    "# Melihat Statistika deskriptif dari dataset untuk model development\n",
    "# dataset --> dataset.csv\n",
    "dataset.describe().round(3)"
   ]
  },
  {
   "cell_type": "markdown",
   "metadata": {},
   "source": [
    "> **Summary dari dataset water.csv** <br>\n",
    "Dari summary dataset di atas dapat dikatakan bahwa rata-rata penggunaan air (tahunan) berkisar pada jumlah 487.35 dengan detail:\n",
    "- Minimum penggunaan air (tahunan) sejumlah 344\n",
    "- Nilai tengah dari penggunaan air (tahunan) sejumlah 486.5\n",
    "- Maksimum penggunaan air (tahunan) sejumlah 662"
   ]
  },
  {
   "cell_type": "markdown",
   "metadata": {},
   "source": [
    "> Jika dilihat dari nilai minimum, nilai tengah, dan maksimumnya dapat dikatakan bahwa penggunaan air selama 79 tahun tidak naik secara signifikan. Dikarenakan selama 79 tahun range dari penggunaan air (tahunan) ada di angka 328."
   ]
  },
  {
   "cell_type": "markdown",
   "metadata": {},
   "source": [
    "### No. 3 -- Create A line plot of a time series dataset, it will provide a lot of insight into the problem."
   ]
  },
  {
   "cell_type": "code",
   "execution_count": 11,
   "metadata": {},
   "outputs": [
    {
     "data": {
      "text/plain": [
       "Text(0.5, 1.0, 'Annual Water Usage in Baltimore')"
      ]
     },
     "execution_count": 11,
     "metadata": {},
     "output_type": "execute_result"
    },
    {
     "data": {
      "image/png": "[encoded data removed]",
      "text/plain": [
       "<Figure size 432x288 with 1 Axes>"
      ]
     },
     "metadata": {
      "needs_background": "light"
     },
     "output_type": "display_data"
    }
   ],
   "source": [
    "# Membuat line plot dari year dan annual_water_usage\n",
    "plt.plot(df['year'], df['annual_water_usage'])\n",
    "plt.xlabel('Year')\n",
    "plt.ylabel('Annual Water Ussage')\n",
    "plt.title('Annual Water Usage in Baltimore')"
   ]
  },
  {
   "cell_type": "markdown",
   "metadata": {},
   "source": [
    "> **Penggunaan Air (tahunan)** <br>\n",
    "Dari line plot di atas dapat dilihat bahwa trend dari penggunaan air (tahunan) selama 79 tahun adalah naik. Namun itu terdapat 2 peristiwa yang bisa dilihat dari line plot tersebut.\n",
    "- Dari tahun 1953 sampai dengan 1890an penggunaan air terus meningkat. Namun pada tahun 1890an penggunaan air turun drastis.\n",
    "- Dari tahun 1910an sampai dengan 1913an penggunaan air terus meningkat. Namun pada tahun 1913an sampai dengan 1917an penggunaan air turun drastis."
   ]
  },
  {
   "cell_type": "markdown",
   "metadata": {},
   "source": [
    "### No. 4 -- Group the annual data by decade and get an idea of the spread of observations for each decade and how this may be changing."
   ]
  },
  {
   "cell_type": "code",
   "execution_count": 12,
   "metadata": {},
   "outputs": [],
   "source": [
    "# Mengubah tipe data dari features year dari integer menjadi datetime\n",
    "df['year'] = pd.to_datetime(df['year'], format = '%Y')"
   ]
  },
  {
   "cell_type": "code",
   "execution_count": 13,
   "metadata": {},
   "outputs": [
    {
     "data": {
      "text/html": [
       "<div>\n",
       "<style scoped>\n",
       "    .dataframe tbody tr th:only-of-type {\n",
       "        vertical-align: middle;\n",
       "    }\n",
       "\n",
       "    .dataframe tbody tr th {\n",
       "        vertical-align: top;\n",
       "    }\n",
       "\n",
       "    .dataframe thead th {\n",
       "        text-align: right;\n",
       "    }\n",
       "</style>\n",
       "<table border=\"1\" class=\"dataframe\">\n",
       "  <thead>\n",
       "    <tr style=\"text-align: right;\">\n",
       "      <th></th>\n",
       "      <th>annual_water_usage</th>\n",
       "    </tr>\n",
       "    <tr>\n",
       "      <th>year</th>\n",
       "      <th></th>\n",
       "    </tr>\n",
       "  </thead>\n",
       "  <tbody>\n",
       "    <tr>\n",
       "      <th>1885-01-01</th>\n",
       "      <td>398.600</td>\n",
       "    </tr>\n",
       "    <tr>\n",
       "      <th>1895-01-01</th>\n",
       "      <td>459.800</td>\n",
       "    </tr>\n",
       "    <tr>\n",
       "      <th>1905-01-01</th>\n",
       "      <td>514.000</td>\n",
       "    </tr>\n",
       "    <tr>\n",
       "      <th>1915-01-01</th>\n",
       "      <td>516.900</td>\n",
       "    </tr>\n",
       "    <tr>\n",
       "      <th>1925-01-01</th>\n",
       "      <td>468.600</td>\n",
       "    </tr>\n",
       "    <tr>\n",
       "      <th>1935-01-01</th>\n",
       "      <td>561.444</td>\n",
       "    </tr>\n",
       "  </tbody>\n",
       "</table>\n",
       "</div>"
      ],
      "text/plain": [
       "            annual_water_usage\n",
       "year                          \n",
       "1885-01-01             398.600\n",
       "1895-01-01             459.800\n",
       "1905-01-01             514.000\n",
       "1915-01-01             516.900\n",
       "1925-01-01             468.600\n",
       "1935-01-01             561.444"
      ]
     },
     "execution_count": 13,
     "metadata": {},
     "output_type": "execute_result"
    }
   ],
   "source": [
    "# Membuat features year menjadi index dari dataset untuk model development\n",
    "df = df.set_index(df['year'])\n",
    "\n",
    "# Membuat partisi dengan mengelompokkan data berdasarkan tahun untuk setiap\n",
    "# satuan dekade (10 tahun)\n",
    "groups = df.loc['1885':'1943'].groupby(pd.Grouper(freq='10AS')).mean().round(3)\n",
    "groups"
   ]
  },
  {
   "cell_type": "markdown",
   "metadata": {},
   "source": [
    "> **Rata-rata Penggunaan Air (Dekade)** <br>\n",
    "Dari hasil pembagian dataset water.csv didapat bahwa dataset untuk model development terdiri atas 60 tahun pertama penggunaan air (tahunan). Sehingga pada saat dikelompokkan dalam dekade akan menghasilkan 6 kelompok data. Penggunaan air per dekade di dapat dari rataan penggunaan air (tahunan) untuk setiap 10 tahun (dekade)."
   ]
  },
  {
   "cell_type": "code",
   "execution_count": 14,
   "metadata": {},
   "outputs": [
    {
     "data": {
      "text/plain": [
       "Text(0.5, 1.0, 'Decade Water Usage in Baltimore')"
      ]
     },
     "execution_count": 14,
     "metadata": {},
     "output_type": "execute_result"
    },
    {
     "data": {
      "image/png": "[encoded data removed]",
      "text/plain": [
       "<Figure size 432x288 with 1 Axes>"
      ]
     },
     "metadata": {
      "needs_background": "light"
     },
     "output_type": "display_data"
    }
   ],
   "source": [
    "# Membuat line plot dari penggunaan air per dekade untuk dataset.csv\n",
    "plt.plot(groups.index, groups['annual_water_usage'])\n",
    "plt.xlabel('Decade')\n",
    "plt.ylabel('Decade Water Usage')\n",
    "plt.title('Decade Water Usage in Baltimore')"
   ]
  },
  {
   "cell_type": "markdown",
   "metadata": {},
   "source": [
    "> **Penggunaan air per dekade** <br>\n",
    "Dari line plot di atas dapat dilihat bahwa penggunaan air per dekade sebagai berikut:\n",
    "- Dari tahun 1885 sampai dengan 1905an penggunaan air per dekade selalu naik.\n",
    "- Pada tahun 1905an sampai dengan 1915an penggunaan air per dekade nyaris konstan (kenaikannya sangat minim).\n",
    "- Dari tahun 1915an sampai dengan 1925an penggunaan air per dekade menurun.\n",
    "- Dari tahun 1925an sampai dengan 1945 penggunaan air terus meningkat."
   ]
  },
  {
   "cell_type": "markdown",
   "metadata": {},
   "source": [
    "> **Perbedaan visualisai penggunaan air tahunan dan per dekade** <br>\n",
    "- Line plot penggunaan air per tahun terlihat lebih detail, namun trend dari penggunaan air dari tahun ke tahun tidak dapat terlihat dengan jelas.\n",
    "- Line plot penggunaan air per dekade tidak terlihat dengan detail, namun dapat memperjelas trend penggunaan air selama 79 tahun dari 1885 sampai dengan 1945."
   ]
  },
  {
   "cell_type": "markdown",
   "metadata": {},
   "source": [
    "### No. 5 -- Create models using ARIMA"
   ]
  },
  {
   "cell_type": "markdown",
   "metadata": {},
   "source": [
    "### 5.1 - 5.3 : Split Dataset\n",
    "5.1 -- Membagi dataset menjadi train dan test <br>\n",
    "5.2 -- 50% dari dataset menjadi train model <br>\n",
    "5.3 -- 50% sisanya akan menjadi test model <br>"
   ]
  },
  {
   "cell_type": "code",
   "execution_count": 18,
   "metadata": {},
   "outputs": [],
   "source": [
    "# Menghapus feature year\n",
    "# karena untuk time series nilai year tidak akan digunakan\n",
    "df.drop(columns=['year'], inplace=True)"
   ]
  },
  {
   "cell_type": "code",
   "execution_count": 23,
   "metadata": {},
   "outputs": [
    {
     "name": "stdout",
     "output_type": "stream",
     "text": [
      "(39, 1)\n",
      "(40, 1)\n"
     ]
    }
   ],
   "source": [
    "# Mengubah tipe data annual_water_usage menjadi floate\n",
    "df = df.astype('float64')\n",
    "\n",
    "# Memberikan partisi untuk split dataset water usage menjadi dua bagian\n",
    "# Dari soal diminta untuk membagi train dataset dan test dataset dibagi sama banyak (50:50)\n",
    "train_size = int(len(df)*0.5)\n",
    "\n",
    "# Train dataset\n",
    "train = df[0:train_size]\n",
    "\n",
    "# Test dataset\n",
    "test = df[train_size:]\n",
    "\n",
    "# Dimensi dari train dan test\n",
    "print(train.shape)\n",
    "print(test.shape)"
   ]
  },
  {
   "cell_type": "markdown",
   "metadata": {},
   "source": [
    "> **Dimensi dari train dataset dan test dataset** <br>\n",
    "Pada soal diminta untuk split dataset annual water usage dengan proporsi 50:50. Sehingga dari code di atas didapat bahwa banyaknya data yang masuk kedalam train dataset sejumlah 39 tahun (1885 sampai dengan 1924) dan yang masuk kedalam test dataset sebanyak 40 tahun (19 25 sampai dengan 1945)."
   ]
  },
  {
   "cell_type": "markdown",
   "metadata": {},
   "source": [
    "### 5.4 - 5.5 : Use an ARIMA(0,1,0) on the raw data may be a good starting point.\n",
    "5.4 -- ARIMA (p,d,q) memiliki 3 parameter yang akan dicari secara manual <br>\n",
    "5.5 -- Menggunakan ARIMA (0,1,0) untuk memodelkan time series dataset water.csv"
   ]
  },
  {
   "cell_type": "code",
   "execution_count": 24,
   "metadata": {},
   "outputs": [
    {
     "name": "stdout",
     "output_type": "stream",
     "text": [
      "                              ARIMA Model Results                               \n",
      "================================================================================\n",
      "Dep. Variable:     D.annual_water_usage   No. Observations:                   38\n",
      "Model:                   ARIMA(0, 1, 0)   Log Likelihood                -195.431\n",
      "Method:                             css   S.D. of innovations             41.429\n",
      "Date:                  Thu, 10 Oct 2019   AIC                            394.863\n",
      "Time:                          21:49:45   BIC                            398.138\n",
      "Sample:                      01-01-1886   HQIC                           396.028\n",
      "                           - 01-01-1923                                         \n",
      "==============================================================================\n",
      "                 coef    std err          z      P>|z|      [0.025      0.975]\n",
      "------------------------------------------------------------------------------\n",
      "const          3.5789      6.721      0.533      0.598      -9.593      16.751\n",
      "==============================================================================\n"
     ]
    }
   ],
   "source": [
    "# Memodelkan dataset water.csv untuk time series analysis\n",
    "# Dengan menggunakan ARIMA(0,1,0)\n",
    "arima_order = (0,1,0)\n",
    "arima = ARIMA(train, order=arima_order)\n",
    "arima_fit = arima.fit()\n",
    "print(arima_fit.summary())"
   ]
  },
  {
   "cell_type": "markdown",
   "metadata": {},
   "source": [
    "### 5.6 - 5.8 : Prediction\n",
    "5.6 -- Membuat dataframe untuk menyimpan nilai prediksi yang dihasilkan dari time series dengan dataset water.csv <br>\n",
    "5.7 -- Memasukan nilai aktial dari masing-masing penggunaan air (tahunan) ke dalam dataframe <br>\n",
    "5.8 -- Hasil prediksi yang diperoleh akan dicari nilai RMSE nya"
   ]
  },
  {
   "cell_type": "code",
   "execution_count": 30,
   "metadata": {},
   "outputs": [
    {
     "data": {
      "text/html": [
       "<div>\n",
       "<style scoped>\n",
       "    .dataframe tbody tr th:only-of-type {\n",
       "        vertical-align: middle;\n",
       "    }\n",
       "\n",
       "    .dataframe tbody tr th {\n",
       "        vertical-align: top;\n",
       "    }\n",
       "\n",
       "    .dataframe thead th {\n",
       "        text-align: right;\n",
       "    }\n",
       "</style>\n",
       "<table border=\"1\" class=\"dataframe\">\n",
       "  <thead>\n",
       "    <tr style=\"text-align: right;\">\n",
       "      <th></th>\n",
       "      <th>prediksi</th>\n",
       "      <th>actual</th>\n",
       "    </tr>\n",
       "    <tr>\n",
       "      <th>year</th>\n",
       "      <th></th>\n",
       "      <th></th>\n",
       "    </tr>\n",
       "  </thead>\n",
       "  <tbody>\n",
       "    <tr>\n",
       "      <th>1924-01-01</th>\n",
       "      <td>495.579</td>\n",
       "      <td>503.0</td>\n",
       "    </tr>\n",
       "    <tr>\n",
       "      <th>1925-01-01</th>\n",
       "      <td>499.158</td>\n",
       "      <td>503.0</td>\n",
       "    </tr>\n",
       "    <tr>\n",
       "      <th>1926-01-01</th>\n",
       "      <td>502.737</td>\n",
       "      <td>450.0</td>\n",
       "    </tr>\n",
       "    <tr>\n",
       "      <th>1927-01-01</th>\n",
       "      <td>506.316</td>\n",
       "      <td>432.0</td>\n",
       "    </tr>\n",
       "    <tr>\n",
       "      <th>1928-01-01</th>\n",
       "      <td>509.895</td>\n",
       "      <td>432.0</td>\n",
       "    </tr>\n",
       "  </tbody>\n",
       "</table>\n",
       "</div>"
      ],
      "text/plain": [
       "            prediksi  actual\n",
       "year                        \n",
       "1924-01-01   495.579   503.0\n",
       "1925-01-01   499.158   503.0\n",
       "1926-01-01   502.737   450.0\n",
       "1927-01-01   506.316   432.0\n",
       "1928-01-01   509.895   432.0"
      ]
     },
     "execution_count": 30,
     "metadata": {},
     "output_type": "execute_result"
    }
   ],
   "source": [
    "# Menentukan nilai prediksi dari time series dengan model ARIMA (0,1,0)\n",
    "y_pred = arima_fit.forecast(len(test))[0]\n",
    "\n",
    "# Membuat dataframe baru yang berisikan index 'year' serta nilai prediksi dan juga actual dari annual water usage\n",
    "df_test = pd.DataFrame(y_pred, columns=['prediksi'], index=test.index).round(3)\n",
    "# Membulatkan hasil prediksi samai dengan 3 angka di belakang koma\n",
    "df_test['actual'] = test.values.round(3)\n",
    "\n",
    "# Memunculkan 5 baris pertama dari dataframe df_test\n",
    "df_test.head()"
   ]
  },
  {
   "cell_type": "markdown",
   "metadata": {},
   "source": [
    "### No. 6 -- Calculate RMSE using the helper function from the scikit-learn library, from dataset only\n",
    "Nilai RMSE akan menunjukkan rata-rata seberapa banyak dari kesalahan model time series yang dibangun (antara nilai actual dan prediksinya)."
   ]
  },
  {
   "cell_type": "code",
   "execution_count": 34,
   "metadata": {},
   "outputs": [
    {
     "name": "stdout",
     "output_type": "stream",
     "text": [
      "RMSE :  41.482\n"
     ]
    }
   ],
   "source": [
    "# Menghitung nilai dari MSE model time series annual water usage\n",
    "mse = mean_squared_error(df_test['actual'], df_test['prediksi'])\n",
    "\n",
    "# Menentukan nilai RMSE\n",
    "rmse = np.sqrt(mse)\n",
    "\n",
    "#Menampilkan nilai RMSE nya\n",
    "print('RMSE : ', rmse.round(3))"
   ]
  },
  {
   "cell_type": "markdown",
   "metadata": {},
   "source": [
    "> **Akurasi model time series dari annual water usage per tahun** <br>\n",
    "Dari informasi di atas di dapat bahwa nilai RMSE untuk model ARIMA (0,1,0) dari time series dengan menggunakan data annual water usage masih buruk. Hal ini tentunya didasari dengan nilai RMSE = 41.482 dari rata-rata penggunaan air secara actual sebesar 480an."
   ]
  }
 ],
 "metadata": {
  "kernelspec": {
   "display_name": "Python 3",
   "language": "python",
   "name": "python3"
  },
  "language_info": {
   "codemirror_mode": {
    "name": "ipython",
    "version": 3
   },
   "file_extension": ".py",
   "mimetype": "text/x-python",
   "name": "python",
   "nbconvert_exporter": "python",
   "pygments_lexer": "ipython3",
   "version": "3.7.3"
  }
 },
 "nbformat": 4,
 "nbformat_minor": 2
}
